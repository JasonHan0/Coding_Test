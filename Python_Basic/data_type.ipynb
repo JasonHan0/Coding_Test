{
 "cells": [
  {
   "cell_type": "code",
   "execution_count": 5,
   "metadata": {},
   "outputs": [],
   "source": [
    "from IPython.display import Image  # To Insert Image\n",
    "import numpy"
   ]
  },
  {
   "cell_type": "markdown",
   "metadata": {},
   "source": [
    "### 자료형"
   ]
  },
  {
   "cell_type": "markdown",
   "metadata": {},
   "source": [
    "##### 수 자료형"
   ]
  },
  {
   "cell_type": "code",
   "execution_count": 6,
   "metadata": {},
   "outputs": [
    {
     "name": "stdout",
     "output_type": "stream",
     "text": [
      "1000 -7 0\n"
     ]
    }
   ],
   "source": [
    "# 정수형\n",
    "a = 1000    # 양의 정수\n",
    "b = -7      # 음의 정수\n",
    "c = 0       # 0\n",
    "print(a, b, c)"
   ]
  },
  {
   "cell_type": "code",
   "execution_count": 7,
   "metadata": {},
   "outputs": [
    {
     "name": "stdout",
     "output_type": "stream",
     "text": [
      "157.93 -1873.2 25.0 -0.12\n"
     ]
    }
   ],
   "source": [
    "# 실수형\n",
    "a = 157.93  # 양의 실수\n",
    "b = -1873.2 # 음의 실수\n",
    "c = 25.     # 소수부가 0일 때 0을 생략\n",
    "d = -.12    # 정수부가 0일 때 0을 생략\n",
    "print(a, b, c, d)"
   ]
  },
  {
   "cell_type": "code",
   "execution_count": 8,
   "metadata": {},
   "outputs": [
    {
     "name": "stdout",
     "output_type": "stream",
     "text": [
      "200000000.0 812.5 2.473\n"
     ]
    }
   ],
   "source": [
    "# 지수 표현\n",
    "a = 2e8     # 2억의 지수 표현 방식\n",
    "b = 81.25e1 # 812.5\n",
    "c = 2473e-3 # 2.473\n",
    "print(a, b, c)"
   ]
  },
  {
   "cell_type": "code",
   "execution_count": 9,
   "metadata": {},
   "outputs": [
    {
     "name": "stdout",
     "output_type": "stream",
     "text": [
      "0.8999999999999999\n",
      "False\n"
     ]
    }
   ],
   "source": [
    "# 현대 컴퓨터 시스템의 실수 표현 한계\n",
    "a = 0.3 + 0.6\n",
    "print(a)        # not 0.9\n",
    "\n",
    "if a == 0.9:\n",
    "    print(True)\n",
    "else:\n",
    "    print(False)"
   ]
  },
  {
   "cell_type": "code",
   "execution_count": 10,
   "metadata": {},
   "outputs": [
    {
     "name": "stdout",
     "output_type": "stream",
     "text": [
      "0.9\n",
      "True\n"
     ]
    }
   ],
   "source": [
    "# Round 함수\n",
    "a = 0.3 + 0.6\n",
    "print(round(a, 4))      # 소수점 5째 자리에서 반올림 (반올림하려는 자리 -1)\n",
    "\n",
    "if round(a,4) == 0.9:\n",
    "    print(True)\n",
    "else:\n",
    "    print(False)"
   ]
  },
  {
   "cell_type": "code",
   "execution_count": 11,
   "metadata": {},
   "outputs": [
    {
     "name": "stdout",
     "output_type": "stream",
     "text": [
      "2.25\n",
      "1\n",
      "2\n",
      "6561\n"
     ]
    }
   ],
   "source": [
    "# 수 자료형의 연산\n",
    "a = 9\n",
    "b = 4\n",
    "\n",
    "print(a / b)    # 나누기\n",
    "print(a % b)    # 나머지\n",
    "print(a // b)   # 몫\n",
    "print(a ** b)   # 거듭제곱 연산자(x^y)"
   ]
  },
  {
   "cell_type": "markdown",
   "metadata": {},
   "source": [
    "#### 리스트 자료형"
   ]
  },
  {
   "cell_type": "code",
   "execution_count": 12,
   "metadata": {},
   "outputs": [
    {
     "name": "stdout",
     "output_type": "stream",
     "text": [
      "[1, 2, 3, 4, 5, 6, 7, 8, 9] 5 [] []\n"
     ]
    }
   ],
   "source": [
    "# 리스트 만들기\n",
    "a = [1, 2, 3, 4, 5, 6, 7, 8, 9]\n",
    "b = list()\n",
    "c = []\n",
    "print(a, a[4], b, c)"
   ]
  },
  {
   "cell_type": "code",
   "execution_count": 13,
   "metadata": {},
   "outputs": [
    {
     "name": "stdout",
     "output_type": "stream",
     "text": [
      "[0, 0, 0, 0, 0, 0, 0, 0, 0, 0]\n"
     ]
    }
   ],
   "source": [
    "# 크기가 N이고, 모든 값이 0인 1차원 리스트 초기화\n",
    "n = 10\n",
    "a = [0] * n\n",
    "print(a)\n",
    "# 코딩 테스트 문제에서 주로 크기가 정해진 1차원 리스트를 초기화 할 경우에 쓰임"
   ]
  },
  {
   "cell_type": "code",
   "execution_count": 14,
   "metadata": {},
   "outputs": [
    {
     "name": "stdout",
     "output_type": "stream",
     "text": [
      "9\n",
      "7\n",
      "[1, 2, 3, 7, 5, 6, 7, 8, 9]\n",
      "[2, 3, 7]\n"
     ]
    }
   ],
   "source": [
    "# 리스트 인덱싱과 슬라이싱\n",
    "a = [1, 2, 3, 4, 5, 6, 7, 8, 9]\n",
    "print(a[-1])    # 뒤에서 첫 번째 원소 출력\n",
    "print(a[-3])    # 뒤에서 세 번째 원소 출력\n",
    "a[3] = 7        # 네 번째 원소 값 변경\n",
    "print(a)\n",
    "print(a[1 : 4]) # 두 번째 원소부터 네 번째 원소까지"
   ]
  },
  {
   "cell_type": "code",
   "execution_count": 15,
   "metadata": {},
   "outputs": [
    {
     "name": "stdout",
     "output_type": "stream",
     "text": [
      "[1, 3, 5, 7, 9, 11, 13, 15, 17, 19]\n"
     ]
    }
   ],
   "source": [
    "# 리스트 컴프리헨션\n",
    "arr = [i for i in range(20) if i % 2 == 1]    # 0부터 19까지의 수 중에서 홀수만 포함하는 리스트\n",
    "print(arr)"
   ]
  },
  {
   "cell_type": "code",
   "execution_count": 16,
   "metadata": {},
   "outputs": [
    {
     "name": "stdout",
     "output_type": "stream",
     "text": [
      "[1, 3, 5, 7, 9, 11, 13, 15, 17, 19]\n"
     ]
    }
   ],
   "source": [
    "arr_long = []   # 위 소스코드를 컴프리헨션을 쓰지 않을 경우\n",
    "for i in range(20):\n",
    "    if i % 2 == 1:\n",
    "        arr_long.append(i)\n",
    "print(arr_long)"
   ]
  },
  {
   "cell_type": "code",
   "execution_count": 17,
   "metadata": {},
   "outputs": [
    {
     "name": "stdout",
     "output_type": "stream",
     "text": [
      "[[0, 0, 0, 0], [0, 0, 0, 0], [0, 0, 0, 0]]\n"
     ]
    }
   ],
   "source": [
    "# N * M 크기의 2차원 리스트 초기화\n",
    "n = 3\n",
    "m = 4\n",
    "arr = [[0] * m for _ in range(n)]\n",
    "print(arr)\n",
    "# 위와 같은 형식은 코딩 테스트에서 2차원 리스트를 초기화할 때 매우 효과적임"
   ]
  },
  {
   "cell_type": "code",
   "execution_count": 18,
   "metadata": {},
   "outputs": [
    {
     "name": "stdout",
     "output_type": "stream",
     "text": [
      "[[0, 0, 0, 0], [0, 0, 0, 0], [0, 0, 0, 0]]\n",
      "[[0, 5, 0, 0], [0, 5, 0, 0], [0, 5, 0, 0]]\n"
     ]
    }
   ],
   "source": [
    "# N * M 크기의 2차원 리스트 초기화\n",
    "n = 3\n",
    "m = 4\n",
    "arr = [[0] * m] * n\n",
    "print(arr)\n",
    "\n",
    "arr[1][1] = 5\n",
    "print(arr)\n",
    "# 특정 크기의 2차원 리스트를 초기화할 때는 반드시 리스트 컴프리헨션을 사용\n",
    "# 3개의 리스트에서 인덱스 1에 해당하는 원소 값이 모두 5로 바뀜"
   ]
  },
  {
   "cell_type": "markdown",
   "metadata": {},
   "source": [
    "* 리스트 관련 다른 메소드"
   ]
  },
  {
   "cell_type": "code",
   "execution_count": 26,
   "metadata": {},
   "outputs": [
    {
     "data": {
      "image/png": "[encoded data removed]",
      "text/plain": [
       "<IPython.core.display.Image object>"
      ]
     },
     "execution_count": 26,
     "metadata": {},
     "output_type": "execute_result"
    }
   ],
   "source": [
    "Image(\"D:\\Study\\Coding_Test\\Initial\\Image\\List_Related_Method.PNG\")"
   ]
  },
  {
   "cell_type": "code",
   "execution_count": 27,
   "metadata": {},
   "outputs": [
    {
     "name": "stdout",
     "output_type": "stream",
     "text": [
      "기본 리스트:  [0, 1, 2, 3, 4, 5, 6, 7, 8, 9]\n",
      "삽입:  [0, 1, 2, 3, 4, 5, 6, 7, 8, 9, 10]\n",
      "내림차순 정렬:  [10, 9, 8, 7, 6, 5, 4, 3, 2, 1, 0]\n",
      "오름차순 정렬:  [0, 1, 2, 3, 4, 5, 6, 7, 8, 9, 10]\n",
      "원소 뒤집기:  [10, 9, 8, 7, 6, 5, 4, 3, 2, 1, 0]\n",
      "인덱스 2에 3 추가:  [10, 9, 3, 8, 7, 6, 5, 4, 3, 2, 1, 0]\n",
      "값이 3인 데이터 개수:  2\n",
      "값이 1인 데이터 삭제:  [10, 9, 3, 8, 7, 6, 5, 4, 3, 2, 0]\n"
     ]
    }
   ],
   "source": [
    "a = list(range(10))\n",
    "print(\"기본 리스트: \", a)\n",
    "\n",
    "# 리스트에 원소 삽입\n",
    "a.append(10)\n",
    "print(\"삽입: \", a)\n",
    "\n",
    "# 내림차순 정렬\n",
    "a.sort(reverse = True)\n",
    "print(\"내림차순 정렬: \", a)\n",
    "\n",
    "# 오름차순 정렬\n",
    "a.sort()\n",
    "print(\"오름차순 정렬: \", a)\n",
    "\n",
    "\n",
    "# 리스트 원소 뒤집기\n",
    "a.reverse()\n",
    "print(\"원소 뒤집기: \", a)\n",
    "\n",
    "# 특정 인덱스에 데이터 추가\n",
    "a.insert(2, 3)\n",
    "print(\"인덱스 2에 3 추가: \", a)\n",
    "\n",
    "# 특정 값인 데이터 개수 세기\n",
    "print(\"값이 3인 데이터 개수: \", a.count(3))\n",
    "\n",
    "# 특정 값 데이터 삭제\n",
    "a.remove(1)\n",
    "print(\"값이 1인 데이터 삭제: \", a)\n"
   ]
  },
  {
   "cell_type": "markdown",
   "metadata": {},
   "source": [
    "#### list Method 중 insert(), append(), remove() 중요\n",
    "##### [List] 코딩 테스트에 적용\n",
    "* insert() - 원소의 개수 = N → 시간 복잡도 = O(N)\n",
    "* append() - 시간 복잡도 = O(1)\n",
    "    * insert()'s 시간 복잡도 > append()'s 시간 복잡도   \n",
    "    중간에 원소를 삽입한 뒤 리스트의 원소 위치를 조정\n",
    "    * insert() 함수 남발하면 테스트에서 시간 초과 위험성\n",
    "* remove() - 원소의 개수 = N → 시간 복잡도 = O(N)\n",
    "    * insert()와 마찬가지로 리스트 중간에 있는 원소를 삭제한 뒤에, 리스트의 원소 위치를 조정\n",
    "    * 다른 프로그래밍 언어에서는 remove_all()과 같은 함수로 특정한 값을 가지는 모든 원소 제거 가능\n",
    "    * python의 경우 기본적 기능으로 제공하지 않음"
   ]
  },
  {
   "cell_type": "code",
   "execution_count": 25,
   "metadata": {},
   "outputs": [
    {
     "name": "stdout",
     "output_type": "stream",
     "text": [
      "[1, 2, 4]\n"
     ]
    }
   ],
   "source": [
    "# 특정한 값의 원소 일괄 제거 방법\n",
    "a = [1, 2, 3, 4, 5, 5, 5]\n",
    "remove_set = {3, 5}\n",
    "\n",
    "# remove_set에 포함되지 않은 값만을 저장\n",
    "result = [i for i in a if i not in remove_set]\n",
    "print(result)   \n",
    "# a에 포함된 원소를 하나씩 확인, 그 원소가 remove_set에 포함되어 있지 않았을 때만 result에 삽입"
   ]
  },
  {
   "cell_type": "markdown",
   "metadata": {},
   "source": [
    "#### 문자열 자료형\n",
    "\n",
    "* 문자열 안에 (\"큰따옴표\")로 구성하는 경우 내부적으로 (\"작은따옴표\")를 포함 할 수 있음 \\\n",
    "    그 역순도 가능함\n",
    "* 혹은 백슬래시 \\ 를 사용하면 원하는 만큼 포함 시킬 수 있음"
   ]
  },
  {
   "cell_type": "code",
   "execution_count": 33,
   "metadata": {},
   "outputs": [
    {
     "name": "stdout",
     "output_type": "stream",
     "text": [
      "Hello World\n",
      "Don't you know \"Python\"?\n"
     ]
    }
   ],
   "source": [
    "# 문자열 초기화\n",
    "data = 'Hello World'\n",
    "print(data)\n",
    "\n",
    "data = \"Don't you know \\\"Python\\\"?\"  # \"\\\"와 같은 문자는 \"이스케이프 문자\"로 특수한 기능을 가짐\n",
    "print(data)"
   ]
  },
  {
   "cell_type": "markdown",
   "metadata": {},
   "source": [
    "#### 문자열 연산"
   ]
  },
  {
   "cell_type": "code",
   "execution_count": 3,
   "metadata": {},
   "outputs": [
    {
     "name": "stdout",
     "output_type": "stream",
     "text": [
      "Hello World\n"
     ]
    }
   ],
   "source": [
    "# 문자열 연산을 지원하는 파이썬, 덧셈(+)을 이용하면 단순히 문자열이 연결 됨\n",
    "a = \"Hello\"\n",
    "b = \"World\"\n",
    "\n",
    "print(a + \" \" + b)"
   ]
  },
  {
   "cell_type": "code",
   "execution_count": 4,
   "metadata": {},
   "outputs": [
    {
     "name": "stdout",
     "output_type": "stream",
     "text": [
      "StringStringStringString\n"
     ]
    }
   ],
   "source": [
    "# 문자열 변수의 정수(양수) 곱셈은, 문자열이 숫자 값 만큼 더해짐\n",
    "a = \"String\"\n",
    "\n",
    "print(a * 4)"
   ]
  },
  {
   "cell_type": "code",
   "execution_count": 12,
   "metadata": {},
   "outputs": [
    {
     "name": "stdout",
     "output_type": "stream",
     "text": [
      "CDE\n"
     ]
    }
   ],
   "source": [
    "# 문자열 데이터의 인덱싱과 슬라이싱\n",
    "a = \"ABCDEF\"\n",
    "\n",
    "print(a[2 : -1])"
   ]
  },
  {
   "cell_type": "markdown",
   "metadata": {},
   "source": [
    "#### 튜플 자료형\n",
    "* 파이썬에서 튜플 자료형은 리스트와 유사하나, 차이점 존재\n",
    "    * 선언 된 후로 값을 변경할 수 없음\n",
    "    * 리스트는 대괄호 \"[]\"를 이용, 튜플은 소괄호 \"()\" 이용\n"
   ]
  },
  {
   "cell_type": "code",
   "execution_count": 17,
   "metadata": {},
   "outputs": [
    {
     "name": "stdout",
     "output_type": "stream",
     "text": [
      "(1, 2, 3, 4)\n"
     ]
    },
    {
     "ename": "TypeError",
     "evalue": "'tuple' object does not support item assignment",
     "output_type": "error",
     "traceback": [
      "\u001b[1;31m---------------------------------------------------------------------------\u001b[0m",
      "\u001b[1;31mTypeError\u001b[0m                                 Traceback (most recent call last)",
      "\u001b[1;32md:\\Study\\Coding_Test\\Initial\\data_type.ipynb Cell 30'\u001b[0m in \u001b[0;36m<cell line: 5>\u001b[1;34m()\u001b[0m\n\u001b[0;32m      <a href='vscode-notebook-cell:/d%3A/Study/Coding_Test/Initial/data_type.ipynb#ch0000028?line=1'>2</a>\u001b[0m a \u001b[39m=\u001b[39m (\u001b[39m1\u001b[39m, \u001b[39m2\u001b[39m, \u001b[39m3\u001b[39m, \u001b[39m4\u001b[39m)  \u001b[39m# 변수의 선언, 초기화\u001b[39;00m\n\u001b[0;32m      <a href='vscode-notebook-cell:/d%3A/Study/Coding_Test/Initial/data_type.ipynb#ch0000028?line=2'>3</a>\u001b[0m \u001b[39mprint\u001b[39m(a)\n\u001b[1;32m----> <a href='vscode-notebook-cell:/d%3A/Study/Coding_Test/Initial/data_type.ipynb#ch0000028?line=4'>5</a>\u001b[0m a[\u001b[39m2\u001b[39m] \u001b[39m=\u001b[39m \u001b[39m7\u001b[39m\n",
      "\u001b[1;31mTypeError\u001b[0m: 'tuple' object does not support item assignment"
     ]
    }
   ],
   "source": [
    "# 튜플의 선언된 값 수정 시도\n",
    "a = (1, 2, 3, 4)  # 변수의 선언, 초기화\n",
    "print(a)\n",
    "\n",
    "a[2] = 7    # \"'tuple' object does not support item assignment\" 오류 출력\n"
   ]
  },
  {
   "cell_type": "markdown",
   "metadata": {},
   "source": [
    "* (변수가 한번 초기화되면) 튜플은 원소의 대입이 불가, 연산자를 사용하여 값 변경 불가\n",
    "\n",
    "============================================================================="
   ]
  },
  {
   "cell_type": "markdown",
   "metadata": {},
   "source": [
    "##### [Tuple] 코딩테스트에 적용\n",
    "* 튜플 자료형은 그래프 알고리즘을 구현할 때 자주 사용\n",
    "    <p>\n",
    "\n",
    "    <p>\n",
    "    \n",
    "    * ex1) 다익스트라 최단 경로 알고리즘: 최단 경로를 찾아주는 알고리즘으로 \\\n",
    "        내부에서는 우선순위 큐를 이용, 우선순위 큐에 한 번 들어간 값은 변경되지 않으므로 \\\n",
    "        그 우선순위 큐에 들어가는 데이터를 튜플로 구성\n",
    "    <p>\n",
    "\n",
    "    <p>\n",
    "    \n",
    "    * ex2) 다익스트라 최단 경로 알고리즘에서는 '비용', '노드 번호'라는 서로 다른 성질의\\\n",
    "       데이터를 (비용, 노드 번호)의 형태로 함께 튜플로 묶어서 관리하는 것이 관례\n",
    "\n",
    "<p>\n",
    "\n",
    "<p>\n",
    "\n",
    "* 알고리즘 구현과정에서 튜플을 사용하게 되면, 자신이 잘못 작성함으로써 \\\n",
    "  불변 속성을 가진 값이 변경되고 있지는 않은지 확인 가능"
   ]
  },
  {
   "cell_type": "markdown",
   "metadata": {},
   "source": [
    "----------------------------------------------------------------------------------------------------"
   ]
  },
  {
   "cell_type": "markdown",
   "metadata": {},
   "source": [
    "#### 사전 자료형\n",
    "\n",
    "<p>\n",
    "\n",
    "<p>\n",
    "\n",
    "##### 사전 자료형 소개\n",
    "    \n",
    "<p>\n",
    "\n",
    "<p>\n",
    "\n",
    " * Key와 Value 쌍을 데이터로 가지는 자료형\n",
    " * 튜플과 같이 변경 불가한 데이터를 키로 사용할 수 있음\n",
    " * 대표적인 사전 자료형으로 \"Dictionary\"\n"
   ]
  },
  {
   "cell_type": "markdown",
   "metadata": {},
   "source": [
    "##### [사전 자료형] 코딩 테스트에 적용 (1)\n",
    "<p>\n",
    "\n",
    "<p>\n",
    "\n",
    "* 키-값 쌍으로 구성되는 데이터를 담는 방법\n",
    "\n",
    "[예시]\n",
    "\n",
    "|키(Key)|값(Value)|\n",
    "|------|---|\n",
    "|사과|Apple|\n",
    "|바나나|Banana|\n",
    "|코코넛|Coconut|\n",
    "\n",
    "* \"키: 한글 단어, 값: 영어단어\"와 같은 변수를 만들어 '사과'의 영어 단어를 알고 싶다면 \\\n",
    "      '사과'라는 키 값을 가지는 데이터에 바로 접근\n",
    "\n",
    "* 사전 자료형은 내부적으로 '해시 테이블(Hash Table)' 을 이용하므로 \\\n",
    "      기본적으로 데이터의 검색 및 수정에 있어서 O(1)의 시간에 처리가능 \\\n",
    "      (전체를 조회하지 않고 조회하기 때문에 1배의 시간이 소요 = 리스트보다 훨씬 빠르게 동작)"
   ]
  },
  {
   "cell_type": "code",
   "execution_count": 28,
   "metadata": {},
   "outputs": [
    {
     "name": "stdout",
     "output_type": "stream",
     "text": [
      "{'사과': 'Apple', '바나나': 'Banana', '코코넛': 'Coconut'} <class 'dict'>\n"
     ]
    }
   ],
   "source": [
    "data = dict()   # 빈 사전 자료형 초기화\n",
    "data['사과'] = 'Apple'\n",
    "data['바나나'] = 'Banana'\n",
    "data['코코넛'] = 'Coconut'\n",
    "\n",
    "print(data, type(data))"
   ]
  },
  {
   "cell_type": "markdown",
   "metadata": {},
   "source": [
    "* Question"
   ]
  },
  {
   "cell_type": "code",
   "execution_count": 34,
   "metadata": {},
   "outputs": [
    {
     "name": "stdout",
     "output_type": "stream",
     "text": [
      "{('사과', '바나나', '코코넛'): ['Apple', 'Banana', 'Coconut']} <class 'dict'>\n"
     ]
    }
   ],
   "source": [
    "# ??? - 위와 아래는 무슨 차이인지 모르겠음, 타입은 동일한데 출력이 다르다.\n",
    "# 키, 값 하나씩 꺼내서 타입 확인해봐야 알것 같음\n",
    "data2 = dict()\n",
    "data2['사과', '바나나', '코코넛'] = ['Apple', 'Banana', 'Coconut']\n",
    "\n",
    "print(data2, type(data2))"
   ]
  },
  {
   "cell_type": "code",
   "execution_count": 41,
   "metadata": {},
   "outputs": [
    {
     "data": {
      "text/plain": [
       "dict_values([['Apple', 'Banana', 'Coconut']])"
      ]
     },
     "execution_count": 41,
     "metadata": {},
     "output_type": "execute_result"
    }
   ],
   "source": [
    "# data.values()   # 'str' object has no attribute 'values' 오류 출력, 왜?\n",
    "data2.values()"
   ]
  },
  {
   "cell_type": "markdown",
   "metadata": {},
   "source": [
    "##### [사전 자료형] 코딩 테스트에 적용 (2)\n",
    "<p>\n",
    "\n",
    "<p>\n",
    "[예시] \n",
    "\n",
    "1. 학생의 번호가 1부터 10,000,000까지로 구성되어 있는 상황에서 최대 10,000명의 \\\n",
    "학생을 선택했다고 가정\n",
    "\n",
    "2. 특정한 학생 번호가 주어졌을 때, 해당 학생이 선택되었는지를 어떻게 빠르게 알 수 있는가?\n",
    "\n",
    "[Sol_1] 리스트의 경우\n",
    "\n",
    "1. 만약 리스트를 이용한다면, 1부터 10,000,000까지의 각 번호가 '선택되었는지를 저장할 수 있는'\\\n",
    "리스트를 만들어야 함\n",
    "\n",
    "2. 1,000만 개 데이터를 저장할 수 있는 리스트를 만들어야 하므로 많은 메모리 공간이 낭비\\\n",
    "    ⇒ 이 중 999만 개 가량의 데이터는 쓰이지 않을 것(전체를 조회해야 하므로)\n",
    "\n",
    "[Sol_2] 사전 자료형의 경우\n",
    "\n",
    "1. 1,000만 개의 데이터를 담을 필요가 없으며 10,000개의 데이터만 사전 자료구조에 \\\n",
    "    들어가므로 훨씬 적은 메모리 공간을 사용\n",
    "\n",
    "2. 사전 자료형에 특정한 원소가 있는지 검사할 때는 '원소 in 사전'의 형태를 사용 \\\n",
    "    → 리스트나 튜플에 대해서도 사용할 수 있는 문법"
   ]
  },
  {
   "cell_type": "code",
   "execution_count": 44,
   "metadata": {},
   "outputs": [
    {
     "name": "stdout",
     "output_type": "stream",
     "text": [
      "'사과'와 '코코넛'을 키로 가지는 데이터가 존재합니다.\n"
     ]
    }
   ],
   "source": [
    "# [Sol_2]의 2번 내용\n",
    "data = dict()\n",
    "data['사과'] = 'Apple'\n",
    "data['바나나'] = 'Banana'\n",
    "data['코코넛'] = 'Coconut'\n",
    "\n",
    "if '사과' and '코코넛' in data:\n",
    "    print(\"'사과'와 '코코넛'을 키로 가지는 데이터가 존재합니다.\")"
   ]
  },
  {
   "cell_type": "markdown",
   "metadata": {},
   "source": [
    "[Tip] iterable 자료형\n",
    "\n",
    "1. 파이썬에서 리스트, 문자열, 튜플 등과 같이 순차적인 정보를 담는 자료형\n",
    "\n",
    "2. \"in\" 문법은 이러한 iterable 자료형에 모두 사용 가능"
   ]
  },
  {
   "cell_type": "markdown",
   "metadata": {},
   "source": [
    "##### 사전 자료형 관련 함수\n",
    "<p>\n",
    "\n",
    "<p>\n",
    "\n",
    "* 키와 값을 별도로 뽑아내기 위한 함수\n",
    "    \n",
    "    1. 키 데이터만 뽑아서 리스트로 이용 = \"사전형 변수\".keys()\n",
    "    2. 값 데이터만 뽑아서 리스트로 이용 = \"사전형 변수\".values()"
   ]
  },
  {
   "cell_type": "code",
   "execution_count": 50,
   "metadata": {},
   "outputs": [
    {
     "name": "stdout",
     "output_type": "stream",
     "text": [
      "dict_keys(['사과', '바나나', '코코넛'])\n",
      "dict_values(['Apple', 'Banana', 'Coconut'])\n",
      "Apple\n",
      "Banana\n",
      "Coconut\n"
     ]
    }
   ],
   "source": [
    "data = dict()\n",
    "data['사과'] = 'Apple'\n",
    "data['바나나'] = 'Banana'\n",
    "data['코코넛'] = 'Coconut'\n",
    "\n",
    "key_list = data.keys()      # 키 데이터만 담은 리스트\n",
    "value_list = data.values()  # 값 데이터만 담은 리스트\n",
    "print(key_list)\n",
    "print(value_list)\n",
    "\n",
    "for key in key_list:        # 각 키에 따른 값을 하나씩 출력\n",
    "    print(data[key])"
   ]
  },
  {
   "cell_type": "code",
   "execution_count": 51,
   "metadata": {},
   "outputs": [
    {
     "ename": "ValueError",
     "evalue": "too many values to unpack (expected 2)",
     "output_type": "error",
     "traceback": [
      "\u001b[1;31m---------------------------------------------------------------------------\u001b[0m",
      "\u001b[1;31mValueError\u001b[0m                                Traceback (most recent call last)",
      "\u001b[1;32md:\\Study\\Coding_Test\\Initial\\data_type.ipynb Cell 45'\u001b[0m in \u001b[0;36m<cell line: 2>\u001b[1;34m()\u001b[0m\n\u001b[0;32m      <a href='vscode-notebook-cell:/d%3A/Study/Coding_Test/Initial/data_type.ipynb#ch0000048?line=0'>1</a>\u001b[0m \u001b[39m# ??? 왜 오류뜨지?\u001b[39;00m\n\u001b[1;32m----> <a href='vscode-notebook-cell:/d%3A/Study/Coding_Test/Initial/data_type.ipynb#ch0000048?line=1'>2</a>\u001b[0m \u001b[39mfor\u001b[39;00m key, value \u001b[39min\u001b[39;00m key_list, value_list:        \u001b[39m# 각 키와 값에 따른 결과를 하나씩 출력\u001b[39;00m\n\u001b[0;32m      <a href='vscode-notebook-cell:/d%3A/Study/Coding_Test/Initial/data_type.ipynb#ch0000048?line=2'>3</a>\u001b[0m     \u001b[39mprint\u001b[39m(\u001b[39mf\u001b[39m\u001b[39m\"\u001b[39m\u001b[39m'\u001b[39m\u001b[39m{\u001b[39;00mdata[key]\u001b[39m}\u001b[39;00m\u001b[39m'\u001b[39m\u001b[39m를 영어로 \u001b[39m\u001b[39m'\u001b[39m\u001b[39m{\u001b[39;00mdata[value]\u001b[39m}\u001b[39;00m\u001b[39m'\u001b[39m\u001b[39m 라고 합니다.\u001b[39m\u001b[39m\"\u001b[39m )\n",
      "\u001b[1;31mValueError\u001b[0m: too many values to unpack (expected 2)"
     ]
    }
   ],
   "source": [
    "# ??? 왜 오류뜨지?\n",
    "for key, value in key_list, value_list:        # 각 키와 값에 따른 결과를 하나씩 출력\n",
    "    print(f\"'{data[key]}'를 영어로 '{data[value]}' 라고 합니다.\" )\n",
    "# too many values to unpack (expected 2)"
   ]
  },
  {
   "cell_type": "markdown",
   "metadata": {},
   "source": [
    "#### 집합 자료형\n",
    "\n",
    "* 집합자료형 소개\n",
    "\n",
    "1. 파이썬에서는 집합(Set)을 처리하기 위한 집합 자료형을 제공 \\\n",
    "\n",
    "2. 기본적으로 리스트 혹은 문자열을 이용해서 만들 수 있음 \\\n",
    "\n",
    "3. 집합자료형의 특징\n",
    "    * 중복을 허용하지 않음(Unique)\n",
    "    * 순서가 없음(Non-Sequential)\n",
    "<p>\n",
    "\n",
    "<p>\n",
    "\n",
    "\n",
    "4. 다른 자료형과의 비교\n",
    "    * 리스트와 튜플: 순서가 있어 인덱싱을 통해 자료형의 값을 얻을 수 있음 \\\n",
    "    ⇔ 사전 자료형과 집합 자료형: 순서가 없어 인덱싱으로 값을 구할 수 없음\n",
    "    * 집합 자료형: 키가 존재하지 않고, 값 데이터만을 저장 \\\n",
    "    특정 원소가 존재하는지 검사하는 연산의 시간 복잡도 = O(1) (사전자료형과 같음)\n",
    "    * 사전 자료형에 대해서 언급했던 \\\n",
    "    '학생 번호가 주어졌을 때 해당 학생이 선택되었는지 여부를 출력하는 문제'에서도 \\\n",
    "    집합 자료형이 효과적임\n",
    "    *(중요!) \"특정한 데이터가 이미 등장한 적이 있는지 여부\"를 체크할 때 매우 효과적\n",
    "<p>\n",
    "\n",
    "<p>\n",
    "\n",
    "\n",
    "5. 초기화 방법\n",
    "    * set( ) 함수 이용\n",
    "    * 중괄호\"{ }\" 안에 각 원소를 콤마(,)를 기준으로 구분하여 넣기\n",
    "    "
   ]
  },
  {
   "cell_type": "code",
   "execution_count": 53,
   "metadata": {},
   "outputs": [
    {
     "name": "stdout",
     "output_type": "stream",
     "text": [
      "{1, 2, 3, 4, 5} <class 'set'>\n",
      "{1, 2, 3, 4} <class 'set'>\n"
     ]
    }
   ],
   "source": [
    "data = set([1, 1, 2, 3, 4, 4, 5])   # 집합 자료형 초기화 방법 1\n",
    "print(data, type(data))\n",
    "\n",
    "data2 = {1, 2, 3, 4, 4, 1, 1, 2}    # 집합 자료형 초기화 방법 2\n",
    "print(data2, type(data2))\n"
   ]
  },
  {
   "cell_type": "markdown",
   "metadata": {},
   "source": [
    "===================================================\n"
   ]
  },
  {
   "cell_type": "markdown",
   "metadata": {},
   "source": [
    "##### 집합 자료형의 연산\n",
    "* 집합 연산의 종류: 합집합, 교집합, 차집합 연산\n",
    "* 집합 연산자의 종류: 합집합 = '|', 교집합 = '&', 차집합 = '-'\n"
   ]
  },
  {
   "cell_type": "code",
   "execution_count": 54,
   "metadata": {},
   "outputs": [
    {
     "name": "stdout",
     "output_type": "stream",
     "text": [
      "{1, 2, 3, 4, 5, 6, 7}\n",
      "{3, 4, 5}\n",
      "{1, 2}\n"
     ]
    }
   ],
   "source": [
    "a = set([1, 2, 3, 4, 5])\n",
    "b = set([3, 4, 5, 6, 7])\n",
    "\n",
    "print(a | b)    # 합집합\n",
    "print(a & b)    # 교집합\n",
    "print(a - b)    # 차집합"
   ]
  },
  {
   "cell_type": "markdown",
   "metadata": {},
   "source": [
    "##### 집합 자료형 관련 함수\n",
    "* add( ) 함수: 하나의 집합 데이터에 값을 추가   [시간 복잡도 = O(1)]\n",
    "* update( ) 함수: 여러 개의 값을 한꺼번에 추가 \n",
    "* remove( ) 함수: 특정한 값을 제거 [시간 복잡도 = O(1)]"
   ]
  },
  {
   "cell_type": "code",
   "execution_count": 59,
   "metadata": {},
   "outputs": [
    {
     "name": "stdout",
     "output_type": "stream",
     "text": [
      "{1, 2, 3}\n",
      "{1, 2, 3, 4}\n",
      "{1, 2, 3, 4, 5, 6}\n",
      "{2, 3, 4, 5, 6}\n"
     ]
    }
   ],
   "source": [
    "data = set([1, 2, 3])\n",
    "print(data)\n",
    "\n",
    "data.add(4)             # 새로운 원소 추가\n",
    "print(data)\n",
    "data.update([5, 6])     # 새로운 원소 여러 개 추가\n",
    "print(data)\n",
    "data.remove(1)          # 특정한 값을 갖는 원소 삭제\n",
    "# data.remove([1, 2, 3])  <- 왜 오류나는거지? 집합은 여러 개 삭제가 안되는 건가?\n",
    "print(data)"
   ]
  },
  {
   "cell_type": "code",
   "execution_count": null,
   "metadata": {},
   "outputs": [],
   "source": []
  }
 ],
 "metadata": {
  "interpreter": {
   "hash": "1d634de237019af3a898bf00387abe9a86e18c84c70ba6ece488f684ecfcdd38"
  },
  "kernelspec": {
   "display_name": "Python 3.9.7 ('base')",
   "language": "python",
   "name": "python3"
  },
  "language_info": {
   "codemirror_mode": {
    "name": "ipython",
    "version": 3
   },
   "file_extension": ".py",
   "mimetype": "text/x-python",
   "name": "python",
   "nbconvert_exporter": "python",
   "pygments_lexer": "ipython3",
   "version": "3.8.12"
  },
  "orig_nbformat": 4
 },
 "nbformat": 4,
 "nbformat_minor": 2
}
